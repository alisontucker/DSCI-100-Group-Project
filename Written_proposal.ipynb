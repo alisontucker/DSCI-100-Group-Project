{
 "cells": [
  {
   "cell_type": "markdown",
   "metadata": {},
   "source": [
    "Group Project Proposal"
   ]
  },
  {
   "cell_type": "markdown",
   "metadata": {},
   "source": [
    "Introduction:\n",
    "We are using data on the top 500 tennis players. We will try to predict a player's prize money based on variables such as rank, number of seasons, height, and number of titles. \n",
    "The dataset we will be using is \"Player Stats for Top 500 Players\" from https://www.ultimatetennisstatistics.com/. "
   ]
  },
  {
   "cell_type": "markdown",
   "metadata": {},
   "source": [
    "Methods:\n",
    "We will use the columns \"Current.Rank\", \"Current.Point\", \"Best.Rank\", \"Seasons\", \"Best.Elo.Rank\", \"Current.Elo.Rank\", \"Current.Elo.Rating\" and \"Peak.Elo.Rating\" to predict a player's prize money. \n",
    "To conduct our analysis, we will first filter our data to remove any empty cells in our columns of interest.\n",
    "We will then separate the data into the training and testing portions.\n",
    "Then we will create a recipe and use k nearest neighbors to predict a player's prize money. \n",
    "We will visualize results by creating a plot of prize money against each of these variables seperately."
   ]
  },
  {
   "cell_type": "markdown",
   "metadata": {},
   "source": [
    "Expected outcomes:\n",
    "We expect to see negetive relationship between prize money and ranks, and we expect to see positive relationship between prize money and other predictors.We also expect accurate predictions on prize money with these selected predictors.\n",
    "These findings would provide a model to predict the prize money of tennis players based on their statisics so that they could make a better decision on their career.\n",
    "This study could lead to further studys that predict the income of other sports players."
   ]
  },
  {
   "cell_type": "code",
   "execution_count": null,
   "metadata": {},
   "outputs": [],
   "source": []
  }
 ],
 "metadata": {
  "kernelspec": {
   "display_name": "Python 3",
   "language": "python",
   "name": "python3"
  },
  "language_info": {
   "codemirror_mode": {
    "name": "ipython",
    "version": 3
   },
   "file_extension": ".py",
   "mimetype": "text/x-python",
   "name": "python",
   "nbconvert_exporter": "python",
   "pygments_lexer": "ipython3",
   "version": "3.8.5"
  }
 },
 "nbformat": 4,
 "nbformat_minor": 4
}
