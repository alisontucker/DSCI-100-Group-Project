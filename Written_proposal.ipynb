{
 "cells": [
  {
   "cell_type": "markdown",
   "metadata": {},
   "source": [
    "Group Project Proposal"
   ]
  },
  {
   "cell_type": "raw",
   "metadata": {},
   "source": [
    "Introduction:\n",
    "We are using data on the top 500 tennis players. We will try to predict a player's prize money based on variables such as rank, number of seasons, height, and number of titles. \n",
    "The dataset we will be using is \"Player Stats for Top 500 Players\" from https://www.ultimatetennisstatistics.com/. "
   ]
  },
  {
   "cell_type": "raw",
   "metadata": {},
   "source": [
    "Methods:\n",
    "We will use the columns \"Current.Rank\", \"Current.Point\", \"Best.Rank\", \"Seasons\", \"Best.Elo.Rank\", \"Current.Elo.Rank\", \"Current.Elo.Rating\" and \"Peak.Elo.Rating\" to predict a player's prize money. \n",
    "To conduct our analysis, we will first filter our data to remove any empty cells in our columns of interest.\n",
    "We will then separate the data into the training and testing portions.\n",
    "Then we will create a recipe and use k nearest neighbors and linear model to predict a player's prize money. \n",
    "We will visualize results by creating a plot of prize money against each of these variables seperately."
   ]
  },
  {
   "cell_type": "markdown",
   "metadata": {},
   "source": [
    "Expected outcomes:\n",
    "We expect to see negetive relationship between prize money and ranks, and we expect to see positive relationship between prize money and other predictors.We also expect accurate predictions on prize money with these selected predictors.\n",
    "These findings would provide a model to predict the prize money of tennis players based on their statisics so that they could make a better decision on their career.\n",
    "This study could lead to further studys that predict the income of other sports players."
   ]
  },
  {
   "cell_type": "raw",
   "metadata": {},
   "source": [
    "Discussion:\n",
    "    1.Summarize our findings:\n",
    "        Just like we expected, \"Prize money\" has a positive relationship with all four factors(\"Age\", \"Seasons\", \"Current Points\", \"Peak Elo Rating\").\n",
    "        \n",
    "        Looking at the four plots of the knn model, we choose k=4 as the final k since it has the least rmspe. We can find that \"prize money\" and \"peak elo rating\" has the most strong positive relationship in these four groups.\n",
    "        The model knn makes for \"prize money\" and \"current points\" seems to have a strong positive linear relationship when the current point over 2500. However, we do not have enough data for the current point over 2500(only one exists when the current point goes over 2500), so this prediction is likely to be inaccurate.\n",
    "        The model for \"Prize Money\" and \"Seasons\", \"Prize Money\" and \"Age\" is comparable to each other. Both models have large fluctuations and do not show linear relations. But when age and seasons increase, we could see prize money also increase slightly.\n",
    "        \n",
    "        The result would be similar when looking at the linear model. \n",
    "        Final formula for linear model is :Prize Money = Age*14873+Current Point *1533+Peak Elo Rating*15523+Seasons*331702-30210. In this formula, we can see that the coefficient in front of all the variables is positive, which means they have positive relations.\n",
    "        \"prize money\" and \"peak elo rating\", \"prize money\" and \"current points\" two still shows strong linear positive relations. (it fluctuates slightly when the two variables are very small)\n",
    "        \"Prize Money\" and \"Seasons\", \"Prize Money\" and \"Age\" still fluctuate a lot. But this time, prize money with seasons shows more positive relations.\n",
    "        \n",
    "     2. The impact of the findings:\n",
    "         We could make predictions for any tennis players' prize money as long as they have those data(players' age, seasons that have been taken, current points, peak rating......). When a player knows his or her possible prize, this player will be motivated to perform better and can adjust their game strategy in time to achieve better results. A study which was done by Ou, Wei-Ming et al(2007)(1) has proved this theory: Wages are one of the best motivators for employees. We could consider prize money as wages, players as employees. In this case, this theory still holds for tennis players, and even other sports players.\n",
    "         In addition, we can use data to predict the future performance of athletes. A similar kind of survey has done in 2011 by José L. Ruiz et al(2). They use DEA to assess tennis players. In their survey, we could see the feasibility of these predictions by using data to create models. Instead of assessing players, we could predict their final ranks by using data and making models.\n",
    "         \n",
    "     3. Further issues:\n",
    "         We should find more data, especially for players' \"current points\" over 2500 and \"peak elo rating\" over 2200. Lake of data means that the model is inaccurate. More data means more accurate predictions. \n",
    "         In our model, we can conclude that  \"prize money\" and \"peak elo rating\", \"prize money\" and \"current points\"  have strong linear positive relations in case of only one point exists when the variable goes high. However, if we add more data, we may get different results."
   ]
  },
  {
   "cell_type": "raw",
   "metadata": {},
   "source": [
    "Reference:\n",
    "(1). Ou, Wei-Ming; Wang, Hong-Da.(Dec 2007) Controllability as a Moderator of the Effect of Salaries on Performance: An Empirical Study. International Journal of Management; Poole Vol. 24, Iss. 4. 657-666,822. https://www.proquest.com/openview/96e13a1ed72f0ee00b8473c15cec548e/1?pq-origsite=gscholar&cbl=5703\n",
    "(2).Jose´ L. Ruiz1, Diego Pastor2, and Jesu´ s T. Pastor1(September 27, 2011) Assessing Professional Tennis Players Using Data Envelopment Analysis (DEA). https://doi.org/10.1177/1527002511421952\n",
    "(3). Data we use: https://www.ultimatetennisstatistics.com/\n",
    "     Data name: Player Stats for Top 500 Players"
   ]
  }
 ],
 "metadata": {
  "kernelspec": {
   "display_name": "Python 3",
   "language": "python",
   "name": "python3"
  },
  "language_info": {
   "codemirror_mode": {
    "name": "ipython",
    "version": 3
   },
   "file_extension": ".py",
   "mimetype": "text/x-python",
   "name": "python",
   "nbconvert_exporter": "python",
   "pygments_lexer": "ipython3",
   "version": "3.8.5"
  }
 },
 "nbformat": 4,
 "nbformat_minor": 4
}
