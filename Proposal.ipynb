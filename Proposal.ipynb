{
 "cells": [
  {
   "cell_type": "markdown",
   "metadata": {},
   "source": [
    "Group Project Proposal"
   ]
  },
  {
   "cell_type": "markdown",
   "metadata": {},
   "source": [
    "Introduction:\n",
    "We are using data on the top 500 tennis players. We will try to predict a player's prize money based on variables such as rank, number of seasons, height, and number of titles. \n",
    "The dataset we will be using is \"Player Stats for Top 500 Players\" from https://www.ultimatetennisstatistics.com/. "
   ]
  },
  {
   "cell_type": "code",
   "execution_count": 39,
   "metadata": {},
   "outputs": [],
   "source": [
    "library(tidyverse)\n",
    "library(repr)\n",
    "options(repr.matrix.max.rows = 6)"
   ]
  },
  {
   "cell_type": "code",
   "execution_count": 43,
   "metadata": {},
   "outputs": [
    {
     "name": "stderr",
     "output_type": "stream",
     "text": [
      "Warning message:\n",
      "“Missing column names filled in: 'X1' [1]”\n",
      "Parsed with column specification:\n",
      "cols(\n",
      "  .default = col_character(),\n",
      "  X1 = \u001b[32mcol_double()\u001b[39m,\n",
      "  `Turned Pro` = \u001b[32mcol_double()\u001b[39m,\n",
      "  Seasons = \u001b[32mcol_double()\u001b[39m,\n",
      "  Titles = \u001b[32mcol_double()\u001b[39m,\n",
      "  `Best Season` = \u001b[32mcol_double()\u001b[39m,\n",
      "  Retired = \u001b[32mcol_double()\u001b[39m,\n",
      "  Masters = \u001b[32mcol_double()\u001b[39m,\n",
      "  `Grand Slams` = \u001b[32mcol_double()\u001b[39m,\n",
      "  `Davis Cups` = \u001b[32mcol_double()\u001b[39m,\n",
      "  `Team Cups` = \u001b[32mcol_double()\u001b[39m,\n",
      "  Olympics = \u001b[32mcol_double()\u001b[39m,\n",
      "  `Weeks at No. 1` = \u001b[32mcol_double()\u001b[39m,\n",
      "  `Tour Finals` = \u001b[32mcol_double()\u001b[39m\n",
      ")\n",
      "\n",
      "See spec(...) for full column specifications.\n",
      "\n"
     ]
    },
    {
     "data": {
      "text/html": [
       "<table>\n",
       "<caption>A spec_tbl_df: 500 × 38</caption>\n",
       "<thead>\n",
       "\t<tr><th scope=col>X1</th><th scope=col>Age</th><th scope=col>Country</th><th scope=col>Plays</th><th scope=col>Wikipedia</th><th scope=col>Current Rank</th><th scope=col>Best Rank</th><th scope=col>Name</th><th scope=col>Backhand</th><th scope=col>Prize Money</th><th scope=col>⋯</th><th scope=col>Facebook</th><th scope=col>Twitter</th><th scope=col>Nicknames</th><th scope=col>Grand Slams</th><th scope=col>Davis Cups</th><th scope=col>Web Site</th><th scope=col>Team Cups</th><th scope=col>Olympics</th><th scope=col>Weeks at No. 1</th><th scope=col>Tour Finals</th></tr>\n",
       "\t<tr><th scope=col>&lt;dbl&gt;</th><th scope=col>&lt;chr&gt;</th><th scope=col>&lt;chr&gt;</th><th scope=col>&lt;chr&gt;</th><th scope=col>&lt;chr&gt;</th><th scope=col>&lt;chr&gt;</th><th scope=col>&lt;chr&gt;</th><th scope=col>&lt;chr&gt;</th><th scope=col>&lt;chr&gt;</th><th scope=col>&lt;chr&gt;</th><th scope=col>⋯</th><th scope=col>&lt;chr&gt;</th><th scope=col>&lt;chr&gt;</th><th scope=col>&lt;chr&gt;</th><th scope=col>&lt;dbl&gt;</th><th scope=col>&lt;dbl&gt;</th><th scope=col>&lt;chr&gt;</th><th scope=col>&lt;dbl&gt;</th><th scope=col>&lt;dbl&gt;</th><th scope=col>&lt;dbl&gt;</th><th scope=col>&lt;dbl&gt;</th></tr>\n",
       "</thead>\n",
       "<tbody>\n",
       "\t<tr><td>0</td><td>26 (25-04-1993)</td><td>Brazil        </td><td>Right-handed</td><td>Wikipedia</td><td>378 (97) </td><td>363 (04-11-2019)</td><td>Oscar Jose Gutierrez</td><td>NA        </td><td>NA          </td><td>⋯</td><td>NA</td><td>NA</td><td>NA</td><td>NA</td><td>NA</td><td>NA</td><td>NA</td><td>NA</td><td>NA</td><td>NA</td></tr>\n",
       "\t<tr><td>1</td><td>18 (22-12-2001)</td><td>United Kingdom</td><td>Left-handed </td><td>Wikipedia</td><td>326 (119)</td><td>316 (14-10-2019)</td><td>Jack Draper         </td><td>Two-handed</td><td>$59,040     </td><td>⋯</td><td>NA</td><td>NA</td><td>NA</td><td>NA</td><td>NA</td><td>NA</td><td>NA</td><td>NA</td><td>NA</td><td>NA</td></tr>\n",
       "\t<tr><td>2</td><td>32 (03-11-1987)</td><td>Slovakia      </td><td>Right-handed</td><td>Wikipedia</td><td>178 (280)</td><td>44 (14-01-2013) </td><td>Lukas Lacko         </td><td>Two-handed</td><td>US$3,261,567</td><td>⋯</td><td>NA</td><td>NA</td><td>NA</td><td>NA</td><td>NA</td><td>NA</td><td>NA</td><td>NA</td><td>NA</td><td>NA</td></tr>\n",
       "\t<tr><td>⋮</td><td>⋮</td><td>⋮</td><td>⋮</td><td>⋮</td><td>⋮</td><td>⋮</td><td>⋮</td><td>⋮</td><td>⋮</td><td>⋱</td><td>⋮</td><td>⋮</td><td>⋮</td><td>⋮</td><td>⋮</td><td>⋮</td><td>⋮</td><td>⋮</td><td>⋮</td><td>⋮</td></tr>\n",
       "\t<tr><td>497</td><td>23 (14-03-1996)</td><td>Netherlands</td><td>Left-handed</td><td>Wikipedia</td><td>495 (60)</td><td>342 (05-08-2019)</td><td>Gijs Brouwer   </td><td>NA        </td><td>NA     </td><td>⋯</td><td>NA</td><td>NA</td><td>NA</td><td>NA</td><td>NA</td><td>NA</td><td>NA</td><td>NA</td><td>NA</td><td>NA</td></tr>\n",
       "\t<tr><td>498</td><td>24 (17-05-1995)</td><td>Ukraine    </td><td>NA         </td><td>Wikipedia</td><td>419 (81)</td><td>419 (20-01-2020)</td><td>Vladyslav Orlov</td><td>NA        </td><td>NA     </td><td>⋯</td><td>NA</td><td>NA</td><td>NA</td><td>NA</td><td>NA</td><td>NA</td><td>NA</td><td>NA</td><td>NA</td><td>NA</td></tr>\n",
       "\t<tr><td>499</td><td>22 (26-03-1997)</td><td>Tunisia    </td><td>Left-handed</td><td>Wikipedia</td><td>451 (69)</td><td>408 (24-12-2018)</td><td>Aziz Dougaz    </td><td>Two-handed</td><td>$61,984</td><td>⋯</td><td>NA</td><td>NA</td><td>NA</td><td>NA</td><td>NA</td><td>NA</td><td>NA</td><td>NA</td><td>NA</td><td>NA</td></tr>\n",
       "</tbody>\n",
       "</table>\n"
      ],
      "text/latex": [
       "A spec\\_tbl\\_df: 500 × 38\n",
       "\\begin{tabular}{lllllllllllllllllllll}\n",
       " X1 & Age & Country & Plays & Wikipedia & Current Rank & Best Rank & Name & Backhand & Prize Money & ⋯ & Facebook & Twitter & Nicknames & Grand Slams & Davis Cups & Web Site & Team Cups & Olympics & Weeks at No. 1 & Tour Finals\\\\\n",
       " <dbl> & <chr> & <chr> & <chr> & <chr> & <chr> & <chr> & <chr> & <chr> & <chr> & ⋯ & <chr> & <chr> & <chr> & <dbl> & <dbl> & <chr> & <dbl> & <dbl> & <dbl> & <dbl>\\\\\n",
       "\\hline\n",
       "\t 0 & 26 (25-04-1993) & Brazil         & Right-handed & Wikipedia & 378 (97)  & 363 (04-11-2019) & Oscar Jose Gutierrez & NA         & NA           & ⋯ & NA & NA & NA & NA & NA & NA & NA & NA & NA & NA\\\\\n",
       "\t 1 & 18 (22-12-2001) & United Kingdom & Left-handed  & Wikipedia & 326 (119) & 316 (14-10-2019) & Jack Draper          & Two-handed & \\$59,040      & ⋯ & NA & NA & NA & NA & NA & NA & NA & NA & NA & NA\\\\\n",
       "\t 2 & 32 (03-11-1987) & Slovakia       & Right-handed & Wikipedia & 178 (280) & 44 (14-01-2013)  & Lukas Lacko          & Two-handed & US\\$3,261,567 & ⋯ & NA & NA & NA & NA & NA & NA & NA & NA & NA & NA\\\\\n",
       "\t ⋮ & ⋮ & ⋮ & ⋮ & ⋮ & ⋮ & ⋮ & ⋮ & ⋮ & ⋮ & ⋱ & ⋮ & ⋮ & ⋮ & ⋮ & ⋮ & ⋮ & ⋮ & ⋮ & ⋮ & ⋮\\\\\n",
       "\t 497 & 23 (14-03-1996) & Netherlands & Left-handed & Wikipedia & 495 (60) & 342 (05-08-2019) & Gijs Brouwer    & NA         & NA      & ⋯ & NA & NA & NA & NA & NA & NA & NA & NA & NA & NA\\\\\n",
       "\t 498 & 24 (17-05-1995) & Ukraine     & NA          & Wikipedia & 419 (81) & 419 (20-01-2020) & Vladyslav Orlov & NA         & NA      & ⋯ & NA & NA & NA & NA & NA & NA & NA & NA & NA & NA\\\\\n",
       "\t 499 & 22 (26-03-1997) & Tunisia     & Left-handed & Wikipedia & 451 (69) & 408 (24-12-2018) & Aziz Dougaz     & Two-handed & \\$61,984 & ⋯ & NA & NA & NA & NA & NA & NA & NA & NA & NA & NA\\\\\n",
       "\\end{tabular}\n"
      ],
      "text/markdown": [
       "\n",
       "A spec_tbl_df: 500 × 38\n",
       "\n",
       "| X1 &lt;dbl&gt; | Age &lt;chr&gt; | Country &lt;chr&gt; | Plays &lt;chr&gt; | Wikipedia &lt;chr&gt; | Current Rank &lt;chr&gt; | Best Rank &lt;chr&gt; | Name &lt;chr&gt; | Backhand &lt;chr&gt; | Prize Money &lt;chr&gt; | ⋯ ⋯ | Facebook &lt;chr&gt; | Twitter &lt;chr&gt; | Nicknames &lt;chr&gt; | Grand Slams &lt;dbl&gt; | Davis Cups &lt;dbl&gt; | Web Site &lt;chr&gt; | Team Cups &lt;dbl&gt; | Olympics &lt;dbl&gt; | Weeks at No. 1 &lt;dbl&gt; | Tour Finals &lt;dbl&gt; |\n",
       "|---|---|---|---|---|---|---|---|---|---|---|---|---|---|---|---|---|---|---|---|---|\n",
       "| 0 | 26 (25-04-1993) | Brazil         | Right-handed | Wikipedia | 378 (97)  | 363 (04-11-2019) | Oscar Jose Gutierrez | NA         | NA           | ⋯ | NA | NA | NA | NA | NA | NA | NA | NA | NA | NA |\n",
       "| 1 | 18 (22-12-2001) | United Kingdom | Left-handed  | Wikipedia | 326 (119) | 316 (14-10-2019) | Jack Draper          | Two-handed | $59,040      | ⋯ | NA | NA | NA | NA | NA | NA | NA | NA | NA | NA |\n",
       "| 2 | 32 (03-11-1987) | Slovakia       | Right-handed | Wikipedia | 178 (280) | 44 (14-01-2013)  | Lukas Lacko          | Two-handed | US$3,261,567 | ⋯ | NA | NA | NA | NA | NA | NA | NA | NA | NA | NA |\n",
       "| ⋮ | ⋮ | ⋮ | ⋮ | ⋮ | ⋮ | ⋮ | ⋮ | ⋮ | ⋮ | ⋱ | ⋮ | ⋮ | ⋮ | ⋮ | ⋮ | ⋮ | ⋮ | ⋮ | ⋮ | ⋮ |\n",
       "| 497 | 23 (14-03-1996) | Netherlands | Left-handed | Wikipedia | 495 (60) | 342 (05-08-2019) | Gijs Brouwer    | NA         | NA      | ⋯ | NA | NA | NA | NA | NA | NA | NA | NA | NA | NA |\n",
       "| 498 | 24 (17-05-1995) | Ukraine     | NA          | Wikipedia | 419 (81) | 419 (20-01-2020) | Vladyslav Orlov | NA         | NA      | ⋯ | NA | NA | NA | NA | NA | NA | NA | NA | NA | NA |\n",
       "| 499 | 22 (26-03-1997) | Tunisia     | Left-handed | Wikipedia | 451 (69) | 408 (24-12-2018) | Aziz Dougaz     | Two-handed | $61,984 | ⋯ | NA | NA | NA | NA | NA | NA | NA | NA | NA | NA |\n",
       "\n"
      ],
      "text/plain": [
       "    X1  Age             Country        Plays        Wikipedia Current Rank\n",
       "1   0   26 (25-04-1993) Brazil         Right-handed Wikipedia 378 (97)    \n",
       "2   1   18 (22-12-2001) United Kingdom Left-handed  Wikipedia 326 (119)   \n",
       "3   2   32 (03-11-1987) Slovakia       Right-handed Wikipedia 178 (280)   \n",
       "⋮   ⋮   ⋮               ⋮              ⋮            ⋮         ⋮           \n",
       "498 497 23 (14-03-1996) Netherlands    Left-handed  Wikipedia 495 (60)    \n",
       "499 498 24 (17-05-1995) Ukraine        NA           Wikipedia 419 (81)    \n",
       "500 499 22 (26-03-1997) Tunisia        Left-handed  Wikipedia 451 (69)    \n",
       "    Best Rank        Name                 Backhand   Prize Money  ⋯ Facebook\n",
       "1   363 (04-11-2019) Oscar Jose Gutierrez NA         NA           ⋯ NA      \n",
       "2   316 (14-10-2019) Jack Draper          Two-handed $59,040      ⋯ NA      \n",
       "3   44 (14-01-2013)  Lukas Lacko          Two-handed US$3,261,567 ⋯ NA      \n",
       "⋮   ⋮                ⋮                    ⋮          ⋮            ⋱ ⋮       \n",
       "498 342 (05-08-2019) Gijs Brouwer         NA         NA           ⋯ NA      \n",
       "499 419 (20-01-2020) Vladyslav Orlov      NA         NA           ⋯ NA      \n",
       "500 408 (24-12-2018) Aziz Dougaz          Two-handed $61,984      ⋯ NA      \n",
       "    Twitter Nicknames Grand Slams Davis Cups Web Site Team Cups Olympics\n",
       "1   NA      NA        NA          NA         NA       NA        NA      \n",
       "2   NA      NA        NA          NA         NA       NA        NA      \n",
       "3   NA      NA        NA          NA         NA       NA        NA      \n",
       "⋮   ⋮       ⋮         ⋮           ⋮          ⋮        ⋮         ⋮       \n",
       "498 NA      NA        NA          NA         NA       NA        NA      \n",
       "499 NA      NA        NA          NA         NA       NA        NA      \n",
       "500 NA      NA        NA          NA         NA       NA        NA      \n",
       "    Weeks at No. 1 Tour Finals\n",
       "1   NA             NA         \n",
       "2   NA             NA         \n",
       "3   NA             NA         \n",
       "⋮   ⋮              ⋮          \n",
       "498 NA             NA         \n",
       "499 NA             NA         \n",
       "500 NA             NA         "
      ]
     },
     "metadata": {},
     "output_type": "display_data"
    }
   ],
   "source": [
    "\n",
    "player_stats<-read_csv(\"player_stats.csv\")\n",
    "player_stats\n"
   ]
  },
  {
   "cell_type": "code",
   "execution_count": 63,
   "metadata": {},
   "outputs": [
    {
     "name": "stderr",
     "output_type": "stream",
     "text": [
      "Warning message:\n",
      "“Expected 2 pieces. Additional pieces discarded in 20 rows [16, 96, 128, 142, 208, 212, 267, 274, 337, 363, 364, 381, 394, 414, 423, 435, 436, 461, 468, 497].”\n",
      "Warning message:\n",
      "“Expected 2 pieces. Missing pieces filled with `NA` in 383 rows [2, 3, 4, 5, 6, 7, 8, 9, 10, 11, 13, 14, 15, 18, 19, 20, 21, 22, 23, 24, ...].”\n"
     ]
    },
    {
     "data": {
      "text/html": [
       "<table>\n",
       "<caption>A tibble: 275 × 2</caption>\n",
       "<thead>\n",
       "\t<tr><th scope=col>Prize.Money</th><th scope=col>All.Time.Rank</th></tr>\n",
       "\t<tr><th scope=col>&lt;chr&gt;</th><th scope=col>&lt;chr&gt;</th></tr>\n",
       "</thead>\n",
       "<tbody>\n",
       "\t<tr><td>NA     </td><td>NA</td></tr>\n",
       "\t<tr><td>59040  </td><td>NA</td></tr>\n",
       "\t<tr><td>3261567</td><td>NA</td></tr>\n",
       "\t<tr><td>⋮</td><td>⋮</td></tr>\n",
       "\t<tr><td>723271</td><td>NA       </td></tr>\n",
       "\t<tr><td>      </td><td>139144944</td></tr>\n",
       "\t<tr><td>250932</td><td>NA       </td></tr>\n",
       "</tbody>\n",
       "</table>\n"
      ],
      "text/latex": [
       "A tibble: 275 × 2\n",
       "\\begin{tabular}{ll}\n",
       " Prize.Money & All.Time.Rank\\\\\n",
       " <chr> & <chr>\\\\\n",
       "\\hline\n",
       "\t NA      & NA\\\\\n",
       "\t 59040   & NA\\\\\n",
       "\t 3261567 & NA\\\\\n",
       "\t ⋮ & ⋮\\\\\n",
       "\t 723271 & NA       \\\\\n",
       "\t        & 139144944\\\\\n",
       "\t 250932 & NA       \\\\\n",
       "\\end{tabular}\n"
      ],
      "text/markdown": [
       "\n",
       "A tibble: 275 × 2\n",
       "\n",
       "| Prize.Money &lt;chr&gt; | All.Time.Rank &lt;chr&gt; |\n",
       "|---|---|\n",
       "| NA      | NA |\n",
       "| 59040   | NA |\n",
       "| 3261567 | NA |\n",
       "| ⋮ | ⋮ |\n",
       "| 723271 | NA        |\n",
       "| <!----> | 139144944 |\n",
       "| 250932 | NA        |\n",
       "\n"
      ],
      "text/plain": [
       "    Prize.Money All.Time.Rank\n",
       "1   NA          NA           \n",
       "2   59040       NA           \n",
       "3   3261567     NA           \n",
       "⋮   ⋮           ⋮            \n",
       "273 723271      NA           \n",
       "274             139144944    \n",
       "275 250932      NA           "
      ]
     },
     "metadata": {},
     "output_type": "display_data"
    },
    {
     "data": {
      "text/html": [
       "<table>\n",
       "<caption>A tibble: 500 × 42</caption>\n",
       "<thead>\n",
       "\t<tr><th scope=col>X1</th><th scope=col>Age</th><th scope=col>DOB</th><th scope=col>Country</th><th scope=col>Plays</th><th scope=col>Wikipedia</th><th scope=col>Current.Rank1</th><th scope=col>Current.Rank2</th><th scope=col>Best.Rank</th><th scope=col>Best.Rank.Date</th><th scope=col>⋯</th><th scope=col>Facebook</th><th scope=col>Twitter</th><th scope=col>Nicknames</th><th scope=col>Grand.Slams</th><th scope=col>Davis.Cups</th><th scope=col>Web.Site</th><th scope=col>Team.Cups</th><th scope=col>Olympics</th><th scope=col>Weeks.at.No..1</th><th scope=col>Tour.Finals</th></tr>\n",
       "\t<tr><th scope=col>&lt;dbl&gt;</th><th scope=col>&lt;chr&gt;</th><th scope=col>&lt;chr&gt;</th><th scope=col>&lt;chr&gt;</th><th scope=col>&lt;chr&gt;</th><th scope=col>&lt;chr&gt;</th><th scope=col>&lt;chr&gt;</th><th scope=col>&lt;chr&gt;</th><th scope=col>&lt;chr&gt;</th><th scope=col>&lt;chr&gt;</th><th scope=col>⋯</th><th scope=col>&lt;chr&gt;</th><th scope=col>&lt;chr&gt;</th><th scope=col>&lt;chr&gt;</th><th scope=col>&lt;dbl&gt;</th><th scope=col>&lt;dbl&gt;</th><th scope=col>&lt;chr&gt;</th><th scope=col>&lt;dbl&gt;</th><th scope=col>&lt;dbl&gt;</th><th scope=col>&lt;dbl&gt;</th><th scope=col>&lt;dbl&gt;</th></tr>\n",
       "</thead>\n",
       "<tbody>\n",
       "\t<tr><td>0</td><td>26</td><td>(25-04-1993)</td><td>Brazil        </td><td>Right-handed</td><td>Wikipedia</td><td>378</td><td>(97) </td><td>363</td><td>(04-11-2019)</td><td>⋯</td><td>NA</td><td>NA</td><td>NA</td><td>NA</td><td>NA</td><td>NA</td><td>NA</td><td>NA</td><td>NA</td><td>NA</td></tr>\n",
       "\t<tr><td>1</td><td>18</td><td>(22-12-2001)</td><td>United Kingdom</td><td>Left-handed </td><td>Wikipedia</td><td>326</td><td>(119)</td><td>316</td><td>(14-10-2019)</td><td>⋯</td><td>NA</td><td>NA</td><td>NA</td><td>NA</td><td>NA</td><td>NA</td><td>NA</td><td>NA</td><td>NA</td><td>NA</td></tr>\n",
       "\t<tr><td>2</td><td>32</td><td>(03-11-1987)</td><td>Slovakia      </td><td>Right-handed</td><td>Wikipedia</td><td>178</td><td>(280)</td><td>44 </td><td>(14-01-2013)</td><td>⋯</td><td>NA</td><td>NA</td><td>NA</td><td>NA</td><td>NA</td><td>NA</td><td>NA</td><td>NA</td><td>NA</td><td>NA</td></tr>\n",
       "\t<tr><td>⋮</td><td>⋮</td><td>⋮</td><td>⋮</td><td>⋮</td><td>⋮</td><td>⋮</td><td>⋮</td><td>⋮</td><td>⋮</td><td>⋱</td><td>⋮</td><td>⋮</td><td>⋮</td><td>⋮</td><td>⋮</td><td>⋮</td><td>⋮</td><td>⋮</td><td>⋮</td><td>⋮</td></tr>\n",
       "\t<tr><td>497</td><td>23</td><td>(14-03-1996)</td><td>Netherlands</td><td>Left-handed</td><td>Wikipedia</td><td>495</td><td>(60)</td><td>342</td><td>(05-08-2019)</td><td>⋯</td><td>NA</td><td>NA</td><td>NA</td><td>NA</td><td>NA</td><td>NA</td><td>NA</td><td>NA</td><td>NA</td><td>NA</td></tr>\n",
       "\t<tr><td>498</td><td>24</td><td>(17-05-1995)</td><td>Ukraine    </td><td>NA         </td><td>Wikipedia</td><td>419</td><td>(81)</td><td>419</td><td>(20-01-2020)</td><td>⋯</td><td>NA</td><td>NA</td><td>NA</td><td>NA</td><td>NA</td><td>NA</td><td>NA</td><td>NA</td><td>NA</td><td>NA</td></tr>\n",
       "\t<tr><td>499</td><td>22</td><td>(26-03-1997)</td><td>Tunisia    </td><td>Left-handed</td><td>Wikipedia</td><td>451</td><td>(69)</td><td>408</td><td>(24-12-2018)</td><td>⋯</td><td>NA</td><td>NA</td><td>NA</td><td>NA</td><td>NA</td><td>NA</td><td>NA</td><td>NA</td><td>NA</td><td>NA</td></tr>\n",
       "</tbody>\n",
       "</table>\n"
      ],
      "text/latex": [
       "A tibble: 500 × 42\n",
       "\\begin{tabular}{lllllllllllllllllllll}\n",
       " X1 & Age & DOB & Country & Plays & Wikipedia & Current.Rank1 & Current.Rank2 & Best.Rank & Best.Rank.Date & ⋯ & Facebook & Twitter & Nicknames & Grand.Slams & Davis.Cups & Web.Site & Team.Cups & Olympics & Weeks.at.No..1 & Tour.Finals\\\\\n",
       " <dbl> & <chr> & <chr> & <chr> & <chr> & <chr> & <chr> & <chr> & <chr> & <chr> & ⋯ & <chr> & <chr> & <chr> & <dbl> & <dbl> & <chr> & <dbl> & <dbl> & <dbl> & <dbl>\\\\\n",
       "\\hline\n",
       "\t 0 & 26 & (25-04-1993) & Brazil         & Right-handed & Wikipedia & 378 & (97)  & 363 & (04-11-2019) & ⋯ & NA & NA & NA & NA & NA & NA & NA & NA & NA & NA\\\\\n",
       "\t 1 & 18 & (22-12-2001) & United Kingdom & Left-handed  & Wikipedia & 326 & (119) & 316 & (14-10-2019) & ⋯ & NA & NA & NA & NA & NA & NA & NA & NA & NA & NA\\\\\n",
       "\t 2 & 32 & (03-11-1987) & Slovakia       & Right-handed & Wikipedia & 178 & (280) & 44  & (14-01-2013) & ⋯ & NA & NA & NA & NA & NA & NA & NA & NA & NA & NA\\\\\n",
       "\t ⋮ & ⋮ & ⋮ & ⋮ & ⋮ & ⋮ & ⋮ & ⋮ & ⋮ & ⋮ & ⋱ & ⋮ & ⋮ & ⋮ & ⋮ & ⋮ & ⋮ & ⋮ & ⋮ & ⋮ & ⋮\\\\\n",
       "\t 497 & 23 & (14-03-1996) & Netherlands & Left-handed & Wikipedia & 495 & (60) & 342 & (05-08-2019) & ⋯ & NA & NA & NA & NA & NA & NA & NA & NA & NA & NA\\\\\n",
       "\t 498 & 24 & (17-05-1995) & Ukraine     & NA          & Wikipedia & 419 & (81) & 419 & (20-01-2020) & ⋯ & NA & NA & NA & NA & NA & NA & NA & NA & NA & NA\\\\\n",
       "\t 499 & 22 & (26-03-1997) & Tunisia     & Left-handed & Wikipedia & 451 & (69) & 408 & (24-12-2018) & ⋯ & NA & NA & NA & NA & NA & NA & NA & NA & NA & NA\\\\\n",
       "\\end{tabular}\n"
      ],
      "text/markdown": [
       "\n",
       "A tibble: 500 × 42\n",
       "\n",
       "| X1 &lt;dbl&gt; | Age &lt;chr&gt; | DOB &lt;chr&gt; | Country &lt;chr&gt; | Plays &lt;chr&gt; | Wikipedia &lt;chr&gt; | Current.Rank1 &lt;chr&gt; | Current.Rank2 &lt;chr&gt; | Best.Rank &lt;chr&gt; | Best.Rank.Date &lt;chr&gt; | ⋯ ⋯ | Facebook &lt;chr&gt; | Twitter &lt;chr&gt; | Nicknames &lt;chr&gt; | Grand.Slams &lt;dbl&gt; | Davis.Cups &lt;dbl&gt; | Web.Site &lt;chr&gt; | Team.Cups &lt;dbl&gt; | Olympics &lt;dbl&gt; | Weeks.at.No..1 &lt;dbl&gt; | Tour.Finals &lt;dbl&gt; |\n",
       "|---|---|---|---|---|---|---|---|---|---|---|---|---|---|---|---|---|---|---|---|---|\n",
       "| 0 | 26 | (25-04-1993) | Brazil         | Right-handed | Wikipedia | 378 | (97)  | 363 | (04-11-2019) | ⋯ | NA | NA | NA | NA | NA | NA | NA | NA | NA | NA |\n",
       "| 1 | 18 | (22-12-2001) | United Kingdom | Left-handed  | Wikipedia | 326 | (119) | 316 | (14-10-2019) | ⋯ | NA | NA | NA | NA | NA | NA | NA | NA | NA | NA |\n",
       "| 2 | 32 | (03-11-1987) | Slovakia       | Right-handed | Wikipedia | 178 | (280) | 44  | (14-01-2013) | ⋯ | NA | NA | NA | NA | NA | NA | NA | NA | NA | NA |\n",
       "| ⋮ | ⋮ | ⋮ | ⋮ | ⋮ | ⋮ | ⋮ | ⋮ | ⋮ | ⋮ | ⋱ | ⋮ | ⋮ | ⋮ | ⋮ | ⋮ | ⋮ | ⋮ | ⋮ | ⋮ | ⋮ |\n",
       "| 497 | 23 | (14-03-1996) | Netherlands | Left-handed | Wikipedia | 495 | (60) | 342 | (05-08-2019) | ⋯ | NA | NA | NA | NA | NA | NA | NA | NA | NA | NA |\n",
       "| 498 | 24 | (17-05-1995) | Ukraine     | NA          | Wikipedia | 419 | (81) | 419 | (20-01-2020) | ⋯ | NA | NA | NA | NA | NA | NA | NA | NA | NA | NA |\n",
       "| 499 | 22 | (26-03-1997) | Tunisia     | Left-handed | Wikipedia | 451 | (69) | 408 | (24-12-2018) | ⋯ | NA | NA | NA | NA | NA | NA | NA | NA | NA | NA |\n",
       "\n"
      ],
      "text/plain": [
       "    X1  Age DOB          Country        Plays        Wikipedia Current.Rank1\n",
       "1   0   26  (25-04-1993) Brazil         Right-handed Wikipedia 378          \n",
       "2   1   18  (22-12-2001) United Kingdom Left-handed  Wikipedia 326          \n",
       "3   2   32  (03-11-1987) Slovakia       Right-handed Wikipedia 178          \n",
       "⋮   ⋮   ⋮   ⋮            ⋮              ⋮            ⋮         ⋮            \n",
       "498 497 23  (14-03-1996) Netherlands    Left-handed  Wikipedia 495          \n",
       "499 498 24  (17-05-1995) Ukraine        NA           Wikipedia 419          \n",
       "500 499 22  (26-03-1997) Tunisia        Left-handed  Wikipedia 451          \n",
       "    Current.Rank2 Best.Rank Best.Rank.Date ⋯ Facebook Twitter Nicknames\n",
       "1   (97)          363       (04-11-2019)   ⋯ NA       NA      NA       \n",
       "2   (119)         316       (14-10-2019)   ⋯ NA       NA      NA       \n",
       "3   (280)         44        (14-01-2013)   ⋯ NA       NA      NA       \n",
       "⋮   ⋮             ⋮         ⋮              ⋱ ⋮        ⋮       ⋮        \n",
       "498 (60)          342       (05-08-2019)   ⋯ NA       NA      NA       \n",
       "499 (81)          419       (20-01-2020)   ⋯ NA       NA      NA       \n",
       "500 (69)          408       (24-12-2018)   ⋯ NA       NA      NA       \n",
       "    Grand.Slams Davis.Cups Web.Site Team.Cups Olympics Weeks.at.No..1\n",
       "1   NA          NA         NA       NA        NA       NA            \n",
       "2   NA          NA         NA       NA        NA       NA            \n",
       "3   NA          NA         NA       NA        NA       NA            \n",
       "⋮   ⋮           ⋮          ⋮        ⋮         ⋮        ⋮             \n",
       "498 NA          NA         NA       NA        NA       NA            \n",
       "499 NA          NA         NA       NA        NA       NA            \n",
       "500 NA          NA         NA       NA        NA       NA            \n",
       "    Tour.Finals\n",
       "1   NA         \n",
       "2   NA         \n",
       "3   NA         \n",
       "⋮   ⋮          \n",
       "498 NA         \n",
       "499 NA         \n",
       "500 NA         "
      ]
     },
     "metadata": {},
     "output_type": "display_data"
    }
   ],
   "source": [
    "colnames(player_stats) <- make.names(colnames(player_stats))\n",
    "\n",
    "#removing useless characters in \n",
    "player_stats$Prize.Money<-gsub(\"\\\\$\",\"\",as.character(player_stats$Prize.Money))\n",
    "player_stats$Prize.Money<-gsub(\"US\",\"\",as.character(player_stats$Prize.Money))\n",
    "player_stats$Prize.Money<-gsub(\"\\\\$ \",\"\",as.character(player_stats$Prize.Money))\n",
    "player_stats$Prize.Money<-gsub(\"all-time leader in earnings\",\"\",as.character(player_stats$Prize.Money))\n",
    "player_stats$Prize.Money<-gsub(\"All-time leader in earnings\",\"\",as.character(player_stats$Prize.Money))\n",
    "player_stats$Prize.Money<-gsub(\",\",\"\",as.character(player_stats$Prize.Money))\n",
    "\n",
    "player_stats_tidy <- player_stats%>%\n",
    "    separate(\n",
    "        col = Prize.Money,\n",
    "        into = c(\"Prize.Money\", \"All.Time.Rank\"),\n",
    "        sep = \" \", \n",
    "    ) %>%\n",
    "    separate(\n",
    "        col = Age,\n",
    "        into = c(\"Age\", \"DOB\"),\n",
    "        sep = \" \", \n",
    "    ) %>%\n",
    "    separate(\n",
    "        col = Best.Rank,\n",
    "        into = c(\"Best.Rank\", \"Best.Rank.Date\"),\n",
    "        sep = \" \", \n",
    "    ) %>%\n",
    "    separate(\n",
    "        col = Current.Rank,\n",
    "        into = c(\"Current.Rank1\", \"Current.Rank2\"),\n",
    "        sep = \" \", \n",
    "    ) \n",
    "    \n",
    "view<- player_stats_tidy%>%\n",
    "    select(Prize.Money,All.Time.Rank)\n",
    "\n",
    "head(view,275)\n",
    "\n",
    "player_stats_tidy"
   ]
  },
  {
   "cell_type": "code",
   "execution_count": 67,
   "metadata": {},
   "outputs": [
    {
     "name": "stderr",
     "output_type": "stream",
     "text": [
      "Warning message:\n",
      "“Removed 106 rows containing missing values (geom_point).”\n"
     ]
    },
    {
     "data": {
      "image/png": "[encoded data removed]",
      "text/plain": [
       "plot without title"
      ]
     },
     "metadata": {
      "image/png": {
       "height": 420,
       "width": 420
      }
     },
     "output_type": "display_data"
    }
   ],
   "source": [
    "plot<-player_stats_tidy%>%\n",
    "    mutate(Best.Rank=as.numeric(Best.Rank, na.rm=T), Prize.Money=as.numeric(Prize.Money, na.rm=T))%>%\n",
    "    ggplot(aes(x=Best.Rank, y=Prize.Money))+\n",
    "        geom_point()\n",
    "plot"
   ]
  },
  {
   "cell_type": "code",
   "execution_count": 39,
   "metadata": {},
   "outputs": [
    {
     "data": {
      "text/html": [
       "<table>\n",
       "<caption>A data.frame: 20 × 2</caption>\n",
       "<thead>\n",
       "\t<tr><th scope=col>x1</th><th scope=col>x2</th></tr>\n",
       "\t<tr><th scope=col>&lt;chr&gt;</th><th scope=col>&lt;int&gt;</th></tr>\n",
       "</thead>\n",
       "<tbody>\n",
       "\t<tr><td>Male1  </td><td> 5</td></tr>\n",
       "\t<tr><td>Male1  </td><td> 4</td></tr>\n",
       "\t<tr><td>Female1</td><td>10</td></tr>\n",
       "\t<tr><td>⋮</td><td>⋮</td></tr>\n",
       "\t<tr><td>Male1</td><td>8</td></tr>\n",
       "\t<tr><td>Male1</td><td>0</td></tr>\n",
       "\t<tr><td>Male1</td><td>4</td></tr>\n",
       "</tbody>\n",
       "</table>\n"
      ],
      "text/latex": [
       "A data.frame: 20 × 2\n",
       "\\begin{tabular}{ll}\n",
       " x1 & x2\\\\\n",
       " <chr> & <int>\\\\\n",
       "\\hline\n",
       "\t Male1   &  5\\\\\n",
       "\t Male1   &  4\\\\\n",
       "\t Female1 & 10\\\\\n",
       "\t ⋮ & ⋮\\\\\n",
       "\t Male1 & 8\\\\\n",
       "\t Male1 & 0\\\\\n",
       "\t Male1 & 4\\\\\n",
       "\\end{tabular}\n"
      ],
      "text/markdown": [
       "\n",
       "A data.frame: 20 × 2\n",
       "\n",
       "| x1 &lt;chr&gt; | x2 &lt;int&gt; |\n",
       "|---|---|\n",
       "| Male1   |  5 |\n",
       "| Male1   |  4 |\n",
       "| Female1 | 10 |\n",
       "| ⋮ | ⋮ |\n",
       "| Male1 | 8 |\n",
       "| Male1 | 0 |\n",
       "| Male1 | 4 |\n",
       "\n"
      ],
      "text/plain": [
       "   x1      x2\n",
       "1  Male1    5\n",
       "2  Male1    4\n",
       "3  Female1 10\n",
       "⋮  ⋮       ⋮ \n",
       "18 Male1   8 \n",
       "19 Male1   0 \n",
       "20 Male1   4 "
      ]
     },
     "metadata": {},
     "output_type": "display_data"
    },
    {
     "data": {
      "text/html": [
       "<table>\n",
       "<caption>A data.frame: 20 × 2</caption>\n",
       "<thead>\n",
       "\t<tr><th scope=col>x1</th><th scope=col>x2</th></tr>\n",
       "\t<tr><th scope=col>&lt;chr&gt;</th><th scope=col>&lt;int&gt;</th></tr>\n",
       "</thead>\n",
       "<tbody>\n",
       "\t<tr><td>Male  </td><td> 5</td></tr>\n",
       "\t<tr><td>Male  </td><td> 4</td></tr>\n",
       "\t<tr><td>Female</td><td>10</td></tr>\n",
       "\t<tr><td>⋮</td><td>⋮</td></tr>\n",
       "\t<tr><td>Male</td><td>8</td></tr>\n",
       "\t<tr><td>Male</td><td>0</td></tr>\n",
       "\t<tr><td>Male</td><td>4</td></tr>\n",
       "</tbody>\n",
       "</table>\n"
      ],
      "text/latex": [
       "A data.frame: 20 × 2\n",
       "\\begin{tabular}{ll}\n",
       " x1 & x2\\\\\n",
       " <chr> & <int>\\\\\n",
       "\\hline\n",
       "\t Male   &  5\\\\\n",
       "\t Male   &  4\\\\\n",
       "\t Female & 10\\\\\n",
       "\t ⋮ & ⋮\\\\\n",
       "\t Male & 8\\\\\n",
       "\t Male & 0\\\\\n",
       "\t Male & 4\\\\\n",
       "\\end{tabular}\n"
      ],
      "text/markdown": [
       "\n",
       "A data.frame: 20 × 2\n",
       "\n",
       "| x1 &lt;chr&gt; | x2 &lt;int&gt; |\n",
       "|---|---|\n",
       "| Male   |  5 |\n",
       "| Male   |  4 |\n",
       "| Female | 10 |\n",
       "| ⋮ | ⋮ |\n",
       "| Male | 8 |\n",
       "| Male | 0 |\n",
       "| Male | 4 |\n",
       "\n"
      ],
      "text/plain": [
       "   x1     x2\n",
       "1  Male    5\n",
       "2  Male    4\n",
       "3  Female 10\n",
       "⋮  ⋮      ⋮ \n",
       "18 Male   8 \n",
       "19 Male   0 \n",
       "20 Male   4 "
      ]
     },
     "metadata": {},
     "output_type": "display_data"
    }
   ],
   "source": [
    "x1<-sample(c(\"Male1\",\"Female1\"),20,replace=TRUE)\n",
    "x2<-rpois(20,5)\n",
    "df1<-data.frame(x1,x2)\n",
    "df1\n",
    "df1$x1<-gsub(\"1\",\"\",as.character(df1$x1))\n",
    "df1"
   ]
  },
  {
   "cell_type": "markdown",
   "metadata": {},
   "source": [
    "Methods:\n",
    "We will use the columns \"Current Rank\", \"Best Rank\", \"Height\", \"Seasons\", \"Best Elo Rank\", \"Peak Elo Rating\", and \"Titles\" to predict a player's prize money. \n",
    "To conduct our analysis, we will first filter our data to remove any empty cells in our columns of interest.\n",
    "We will then separate the data into the training and testing portions.\n",
    "Then we will create a recipe and use k nearest neighbors to predict a player's prize money. \n",
    "We will visualize results by creating a plot of prize money against each of these variables seperately."
   ]
  },
  {
   "cell_type": "markdown",
   "metadata": {},
   "source": [
    "Expected outcomes:\n",
    "We expect to see that higher ranked players will be making more prize money, as well as players that have been playing for more seasons. \n",
    "We are unsure how height will be related to prize money, but this could be an interesting relationship to explore, and could lead to other questions about factors like weight or muscle mass affecting prize money. "
   ]
  },
  {
   "cell_type": "code",
   "execution_count": null,
   "metadata": {},
   "outputs": [],
   "source": []
  }
 ],
 "metadata": {
  "kernelspec": {
   "display_name": "R",
   "language": "R",
   "name": "ir"
  },
  "language_info": {
   "codemirror_mode": "r",
   "file_extension": ".r",
   "mimetype": "text/x-r-source",
   "name": "R",
   "pygments_lexer": "r",
   "version": "4.0.0"
  }
 },
 "nbformat": 4,
 "nbformat_minor": 4
}
